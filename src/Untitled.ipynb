{
 "cells": [
  {
   "cell_type": "code",
   "execution_count": 10,
   "metadata": {},
   "outputs": [],
   "source": [
    "\"\"\"A video library class.\"\"\"\n",
    "\n",
    "from video import Video\n",
    "from pathlib import Path\n",
    "import csv\n",
    "\n",
    "\n",
    "# Helper Wrapper around CSV reader to strip whitespace from around\n",
    "# each item.\n",
    "def _csv_reader_with_strip(reader):\n",
    "    yield from ((item.strip() for item in line) for line in reader)\n",
    "\n",
    "\n",
    "class VideoLibrary:\n",
    "    \"\"\"A class used to represent a Video Library.\"\"\"\n",
    "\n",
    "    def __init__(self):\n",
    "        \"\"\"The VideoLibrary class is initialized.\"\"\"\n",
    "        self._videos = {}\n",
    "        with open(\"untitled.txt\") as video_file:\n",
    "            reader = _csv_reader_with_strip(\n",
    "                csv.reader(video_file, delimiter=\"|\"))\n",
    "            for video_info in reader:\n",
    "                title, url, tags = video_info\n",
    "                self._videos[url] = Video(\n",
    "                    title,\n",
    "                    url,\n",
    "                    [tag.strip() for tag in tags.split(\",\")] if tags else [],\n",
    "                )\n",
    "\n",
    "    def get_all_videos(self):\n",
    "        \"\"\"Returns all available video information from the video library.\"\"\"\n",
    "        #return list(self._videos.values())\n",
    "        return self._videos\n",
    "    \n",
    "    def get_video(self, video_id):\n",
    "        \"\"\"Returns the video object (title, url, tags) from the video library.\n",
    "\n",
    "        Args:\n",
    "            video_id: The video url.\n",
    "\n",
    "        Returns:\n",
    "            The Video object for the requested video_id. None if the video\n",
    "            does not exist.\n",
    "        \"\"\"\n",
    "        return self._videos.get(video_id, None)\n"
   ]
  },
  {
   "cell_type": "code",
   "execution_count": 4,
   "metadata": {},
   "outputs": [],
   "source": [
    "v = VideoLibrary()"
   ]
  },
  {
   "cell_type": "code",
   "execution_count": 5,
   "metadata": {},
   "outputs": [
    {
     "data": {
      "text/plain": [
       "[<video.Video at 0x109387a60>,\n",
       " <video.Video at 0x109a10d00>,\n",
       " <video.Video at 0x109a10310>,\n",
       " <video.Video at 0x109da6ac0>,\n",
       " <video.Video at 0x109da6e50>]"
      ]
     },
     "execution_count": 5,
     "metadata": {},
     "output_type": "execute_result"
    }
   ],
   "source": [
    "v.get_all_videos()"
   ]
  },
  {
   "cell_type": "code",
   "execution_count": 6,
   "metadata": {},
   "outputs": [],
   "source": [
    "class VideoPlayer:\n",
    "    \"\"\"A class used to represent a Video Player.\"\"\"\n",
    "\n",
    "    def __init__(self):\n",
    "        self._video_library = VideoLibrary()\n",
    "\n",
    "    def number_of_videos(self):\n",
    "        num_videos = len(self._video_library.get_all_videos())\n",
    "        print(f\"{num_videos} videos in the library\")\n",
    "\n",
    "    def show_all_videos(self):\n",
    "        \"\"\"Returns all videos.\"\"\"\n",
    "        print(f\"Here's a list of all available videos:\")\n",
    "        for video in self._video_library.\n",
    "            print(video)"
   ]
  },
  {
   "cell_type": "code",
   "execution_count": 11,
   "metadata": {},
   "outputs": [],
   "source": [
    "video_library = VideoLibrary()\n"
   ]
  },
  {
   "cell_type": "code",
   "execution_count": 12,
   "metadata": {},
   "outputs": [
    {
     "data": {
      "text/plain": [
       "{'funny_dogs_video_id': <video.Video at 0x10967d4f0>,\n",
       " 'amazing_cats_video_id': <video.Video at 0x109ab0940>,\n",
       " 'another_cat_video_id': <video.Video at 0x1094a1940>,\n",
       " 'life_at_google_video_id': <video.Video at 0x1094a1130>,\n",
       " 'nothing_video_id': <video.Video at 0x109e94fd0>}"
      ]
     },
     "execution_count": 12,
     "metadata": {},
     "output_type": "execute_result"
    }
   ],
   "source": [
    "video_library.get_all_videos()"
   ]
  }
 ],
 "metadata": {
  "kernelspec": {
   "display_name": "Python 3",
   "language": "python",
   "name": "python3"
  },
  "language_info": {
   "codemirror_mode": {
    "name": "ipython",
    "version": 3
   },
   "file_extension": ".py",
   "mimetype": "text/x-python",
   "name": "python",
   "nbconvert_exporter": "python",
   "pygments_lexer": "ipython3",
   "version": "3.8.5"
  }
 },
 "nbformat": 4,
 "nbformat_minor": 4
}
